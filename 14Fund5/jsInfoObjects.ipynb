{
 "cells": [
  {
   "cell_type": "code",
   "execution_count": 1,
   "metadata": {},
   "outputs": [],
   "source": [
    "// https://javascript.info/object"
   ]
  },
  {
   "cell_type": "code",
   "execution_count": 2,
   "metadata": {},
   "outputs": [
    {
     "name": "stdout",
     "output_type": "stream",
     "text": [
      "{ surname: 'Smith' }\n"
     ]
    }
   ],
   "source": [
    "// 1 - Hello, object\n",
    "\n",
    "let user = {};\n",
    "user.name = \"John\";\n",
    "user.surname = \"Smith\";\n",
    "user.name = \"Pete\";\n",
    "delete user.name;\n",
    "\n",
    "console.log(user)"
   ]
  },
  {
   "cell_type": "code",
   "execution_count": 3,
   "metadata": {},
   "outputs": [
    {
     "name": "stdout",
     "output_type": "stream",
     "text": [
      "true\n",
      "false\n"
     ]
    }
   ],
   "source": [
    "// 2 - Check for emptiness\n",
    "\n",
    "function isEmpty(obj) {\n",
    "    for (let key in obj) {\n",
    "        // loop through the keys of the object, returns false if there's at least one property\n",
    "        return false;\n",
    "    }\n",
    "    return true;\n",
    "}\n",
    "\n",
    "let schedule = {};\n",
    "\n",
    "console.log( isEmpty(schedule) ); // true\n",
    "\n",
    "schedule[\"8:30\"] = \"get up\";\n",
    "\n",
    "console.log( isEmpty(schedule) ); // false"
   ]
  },
  {
   "cell_type": "code",
   "execution_count": 4,
   "metadata": {},
   "outputs": [
    {
     "name": "stdout",
     "output_type": "stream",
     "text": [
      "390\n"
     ]
    }
   ],
   "source": [
    "// 3 - Sum object properties\n",
    "\n",
    "let salaries = {\n",
    "    John: 100,\n",
    "    Ann: 160,\n",
    "    Pete: 130,\n",
    "};\n",
    "\n",
    "let sum = 0;\n",
    "for (let key in salaries) {\n",
    "    sum += salaries[key];\n",
    "}\n",
    "\n",
    "console.log(sum); // 390"
   ]
  },
  {
   "cell_type": "code",
   "execution_count": 5,
   "metadata": {},
   "outputs": [],
   "source": [
    "// 4 - Multiply numeric property values by 2\n",
    "\n"
   ]
  },
  {
   "cell_type": "code",
   "execution_count": null,
   "metadata": {},
   "outputs": [],
   "source": []
  }
 ],
 "metadata": {
  "kernelspec": {
   "display_name": "JavaScript (Node.js)",
   "language": "javascript",
   "name": "javascript"
  },
  "language_info": {
   "file_extension": ".js",
   "mimetype": "application/javascript",
   "name": "javascript",
   "version": "16.15.1"
  },
  "orig_nbformat": 4
 },
 "nbformat": 4,
 "nbformat_minor": 2
}
