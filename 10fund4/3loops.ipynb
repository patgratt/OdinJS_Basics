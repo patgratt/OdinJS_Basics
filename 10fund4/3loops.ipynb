{
 "cells": [
  {
   "cell_type": "code",
   "execution_count": null,
   "metadata": {},
   "outputs": [],
   "source": [
    "// https://javascript.info/while-for"
   ]
  },
  {
   "cell_type": "code",
   "execution_count": 1,
   "metadata": {},
   "outputs": [
    {
     "name": "stdout",
     "output_type": "stream",
     "text": [
      "3\n",
      "2\n",
      "1\n"
     ]
    }
   ],
   "source": [
    "// 1 - last loop value\n",
    "\n",
    "let i = 3;\n",
    "\n",
    "// the check while(i) stops the loop when i = 0 (bc 0 when evaluated as a boolean is false)\n",
    "while (i) {\n",
    "    // this notation does i-1 for whatever reason\n",
    "    console.log( i-- );\n",
    "}\n",
    "\n",
    "// answer = 1"
   ]
  },
  {
   "cell_type": "code",
   "execution_count": 2,
   "metadata": {},
   "outputs": [
    {
     "name": "stdout",
     "output_type": "stream",
     "text": [
      "1\n",
      "2\n",
      "3\n",
      "4\n"
     ]
    }
   ],
   "source": [
    "// 2a - which value does the while loop show?\n",
    "\n",
    "i = 0;\n",
    "// prefix form increments i and returns new value\n",
    "while (++i < 5) console.log( i );"
   ]
  },
  {
   "cell_type": "code",
   "execution_count": 3,
   "metadata": {},
   "outputs": [
    {
     "name": "stdout",
     "output_type": "stream",
     "text": [
      "1\n",
      "2\n",
      "3\n",
      "4\n",
      "5\n"
     ]
    }
   ],
   "source": [
    "// 2b - which value does the while loop show?\n",
    "\n",
    "i = 0;\n",
    "// postfix form increments i and returns old value, gives it an extra loop\n",
    "while (i++ < 5) console.log( i );"
   ]
  },
  {
   "cell_type": "code",
   "execution_count": 4,
   "metadata": {},
   "outputs": [
    {
     "name": "stdout",
     "output_type": "stream",
     "text": [
      "0\n",
      "1\n",
      "2\n",
      "3\n",
      "4\n"
     ]
    }
   ],
   "source": [
    "// 3a - which values get shown by the \"for\" loop?\n",
    "\n",
    "for (let i = 0; i < 5; i++) console.log( i );"
   ]
  },
  {
   "cell_type": "code",
   "execution_count": 5,
   "metadata": {},
   "outputs": [
    {
     "name": "stdout",
     "output_type": "stream",
     "text": [
      "0\n",
      "1\n",
      "2\n",
      "3\n",
      "4\n"
     ]
    }
   ],
   "source": [
    "// 3b - which values get shown by the \"for\" loop?\n",
    "\n",
    "for (let i = 0; i < 5; ++i) console.log( i );"
   ]
  },
  {
   "cell_type": "markdown",
   "metadata": {},
   "source": [
    "these are the same bc of the algorithm of for:\n",
    "\n",
    "1. Execute once i = 0 before everything (begin).\n",
    "2. Check the condition i < 5\n",
    "3. If true – execute the loop body alert(i), and then i++"
   ]
  },
  {
   "cell_type": "code",
   "execution_count": 6,
   "metadata": {},
   "outputs": [
    {
     "name": "stdout",
     "output_type": "stream",
     "text": [
      "2\n",
      "4\n",
      "6\n",
      "8\n",
      "10\n"
     ]
    }
   ],
   "source": [
    "// 4 - output even numbers in the loop\n",
    "\n",
    "for (let i = 2; i <= 10; i++) {\n",
    "    if (i % 2 == 0) {\n",
    "        console.log( i );\n",
    "    }\n",
    "}"
   ]
  },
  {
   "cell_type": "code",
   "execution_count": 10,
   "metadata": {},
   "outputs": [
    {
     "name": "stdout",
     "output_type": "stream",
     "text": [
      "number 0!\n",
      "number 1!\n",
      "number 2!\n"
     ]
    },
    {
     "data": {
      "text/plain": [
       "2"
      ]
     },
     "execution_count": 10,
     "metadata": {},
     "output_type": "execute_result"
    }
   ],
   "source": [
    "// 5 - replace \"for\" with \"while\"\n",
    "\n",
    "i = 0;\n",
    "while (i < 3) {\n",
    "    console.log( `number ${i}!` );\n",
    "    i++;\n",
    "}\n",
    "// idk why that 2 is coming up... weird\n",
    "// same code on the site"
   ]
  },
  {
   "cell_type": "code",
   "execution_count": 1,
   "metadata": {},
   "outputs": [],
   "source": [
    "// 6 - repeat until the input is correct\n",
    "\n",
    "let num;\n",
    "\n",
    "do {\n",
    "    num = prompt(\"Enter a number greater than 100\", 0);\n",
    "} while (num <= 100 && num);\n",
    "\n",
    "// not gonna run bc prompt is broken in jupyter with js"
   ]
  },
  {
   "cell_type": "code",
   "execution_count": 2,
   "metadata": {},
   "outputs": [
    {
     "name": "stdout",
     "output_type": "stream",
     "text": [
      "2\n",
      "3\n",
      "5\n",
      "7\n"
     ]
    }
   ],
   "source": [
    "// 7 - output prime numbers\n",
    "\n",
    "let n = 10;\n",
    "\n",
    "nextPrime:\n",
    "for (let i = 2; i <= n; i++) { // for each i...\n",
    "\n",
    "  for (let j = 2; j < i; j++) { // look for a divisor..\n",
    "    if (i % j == 0) continue nextPrime; // not a prime, go next i\n",
    "  }\n",
    "\n",
    "  console.log( i ); // a prime\n",
    "}"
   ]
  }
 ],
 "metadata": {
  "kernelspec": {
   "display_name": "JavaScript (Node.js)",
   "language": "javascript",
   "name": "javascript"
  },
  "language_info": {
   "file_extension": ".js",
   "mimetype": "application/javascript",
   "name": "javascript",
   "version": "16.15.1"
  },
  "orig_nbformat": 4
 },
 "nbformat": 4,
 "nbformat_minor": 2
}
