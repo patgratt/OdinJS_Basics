{
 "cells": [
  {
   "cell_type": "code",
   "execution_count": 1,
   "metadata": {},
   "outputs": [],
   "source": [
    "// https://www.w3schools.com/js/exercise_js.asp?filename=exercise_js_array_methods1"
   ]
  },
  {
   "cell_type": "code",
   "execution_count": 1,
   "metadata": {},
   "outputs": [
    {
     "name": "stdout",
     "output_type": "stream",
     "text": [
      "[ 'Banana', 'Orange' ]\n"
     ]
    }
   ],
   "source": [
    "// 1\n",
    "\n",
    "const fruits = [\"Banana\", \"Orange\", \"Apple\"];\n",
    "fruits.pop()\n",
    "console.log(fruits)"
   ]
  },
  {
   "cell_type": "code",
   "execution_count": 3,
   "metadata": {},
   "outputs": [
    {
     "name": "stdout",
     "output_type": "stream",
     "text": [
      "[ 'Banana', 'Orange', 'Apple', 'Kiwi' ]\n"
     ]
    }
   ],
   "source": [
    "// 2\n",
    "\n",
    "const fruits2 = [\"Banana\", \"Orange\", \"Apple\"];\n",
    "fruits2.push(\"Kiwi\")\n",
    "console.log(fruits2)"
   ]
  },
  {
   "cell_type": "code",
   "execution_count": 4,
   "metadata": {},
   "outputs": [
    {
     "name": "stdout",
     "output_type": "stream",
     "text": [
      "[ 'Banana', 'Kiwi' ]\n"
     ]
    }
   ],
   "source": [
    "// 3\n",
    "\n",
    "fruits2.splice(1,2)\n",
    "console.log(fruits2)"
   ]
  }
 ],
 "metadata": {
  "kernelspec": {
   "display_name": "JavaScript (Node.js)",
   "language": "javascript",
   "name": "javascript"
  },
  "language_info": {
   "file_extension": ".js",
   "mimetype": "application/javascript",
   "name": "javascript",
   "version": "16.15.1"
  },
  "orig_nbformat": 4
 },
 "nbformat": 4,
 "nbformat_minor": 2
}
