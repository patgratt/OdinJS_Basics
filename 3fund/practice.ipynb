{
 "cells": [
  {
   "cell_type": "markdown",
   "metadata": {},
   "source": [
    "<h1> Fundamentals Part 3 - Practice"
   ]
  },
  {
   "cell_type": "code",
   "execution_count": 1,
   "metadata": {},
   "outputs": [
    {
     "name": "stdout",
     "output_type": "stream",
     "text": [
      "12\n"
     ]
    }
   ],
   "source": [
    "// 1\n",
    "function add7(num)  {\n",
    "    return (num + 7);\n",
    "}\n",
    "console.log(add7(5))"
   ]
  },
  {
   "cell_type": "code",
   "execution_count": 2,
   "metadata": {},
   "outputs": [
    {
     "name": "stdout",
     "output_type": "stream",
     "text": [
      "20\n"
     ]
    }
   ],
   "source": [
    "// 2\n",
    "function multiply(num1,num2) {\n",
    "    return (num1*num2);\n",
    "}\n",
    "console.log(multiply(5,4))"
   ]
  },
  {
   "cell_type": "code",
   "execution_count": 3,
   "metadata": {},
   "outputs": [
    {
     "name": "stdout",
     "output_type": "stream",
     "text": [
      "Patrick\n"
     ]
    }
   ],
   "source": [
    "// 3\n",
    "function capitalize(str) {\n",
    "    return str.charAt(0).toUpperCase() + str.slice(1);\n",
    "}\n",
    "console.log(capitalize('patrick'))"
   ]
  },
  {
   "cell_type": "code",
   "execution_count": 4,
   "metadata": {},
   "outputs": [
    {
     "name": "stdout",
     "output_type": "stream",
     "text": [
      "n\n"
     ]
    }
   ],
   "source": [
    "// 4\n",
    "function lastLetter(str) {\n",
    "    return str.charAt(str.length-1);\n",
    "}\n",
    "console.log(lastLetter('John'))"
   ]
  }
 ],
 "metadata": {
  "kernelspec": {
   "display_name": "JavaScript (Node.js)",
   "language": "javascript",
   "name": "javascript"
  },
  "language_info": {
   "file_extension": ".js",
   "mimetype": "application/javascript",
   "name": "javascript",
   "version": "16.15.1"
  },
  "orig_nbformat": 4
 },
 "nbformat": 4,
 "nbformat_minor": 2
}
