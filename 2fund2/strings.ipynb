{
 "cells": [
  {
   "cell_type": "code",
   "execution_count": 1,
   "metadata": {},
   "outputs": [
    {
     "name": "stdout",
     "output_type": "stream",
     "text": [
      "hello\n"
     ]
    }
   ],
   "source": [
    "const string = \"hello\";\n",
    "console.log(string);"
   ]
  },
  {
   "cell_type": "code",
   "execution_count": 2,
   "metadata": {},
   "outputs": [
    {
     "name": "stdout",
     "output_type": "stream",
     "text": [
      "Hello, Chris\n"
     ]
    }
   ],
   "source": [
    "// concatenating strings in JS\n",
    "// use backtick mark (`) this is called a template literal\n",
    "\n",
    "const name = 'Chris';\n",
    "const greeting = `Hello, ${name}`;\n",
    "console.log(greeting); // Hello, Chris"
   ]
  },
  {
   "cell_type": "code",
   "execution_count": 3,
   "metadata": {},
   "outputs": [
    {
     "name": "stdout",
     "output_type": "stream",
     "text": [
      "I've got no right to take my place...\n"
     ]
    }
   ],
   "source": [
    "// creating a string with a quote inside\n",
    "// put backslash beofre and it recongnizes that it's part of the str\n",
    "\n",
    "const bigmouth = 'I\\'ve got no right to take my place...'\n",
    "console.log(bigmouth); "
   ]
  },
  {
   "cell_type": "code",
   "execution_count": 4,
   "metadata": {},
   "outputs": [
    {
     "name": "stdout",
     "output_type": "stream",
     "text": [
      "number\n"
     ]
    }
   ],
   "source": [
    "// convert str to number\n",
    "\n",
    "let mystr = '123'\n",
    "let mynum = Number(mystr);\n",
    "console.log(typeof mynum);"
   ]
  },
  {
   "cell_type": "markdown",
   "metadata": {},
   "source": [
    "W3 Schools - JS String Methods - Exercises"
   ]
  },
  {
   "cell_type": "code",
   "execution_count": 5,
   "metadata": {},
   "outputs": [
    {
     "data": {
      "text/plain": [
       "'HELLO WORLD!'"
      ]
     },
     "execution_count": 5,
     "metadata": {},
     "output_type": "execute_result"
    }
   ],
   "source": [
    "// 1\n",
    "// convert text into uppercase\n",
    "\n",
    "let a = 'Hello World!';\n",
    "a = a.toUpperCase();"
   ]
  },
  {
   "cell_type": "code",
   "execution_count": 6,
   "metadata": {},
   "outputs": [
    {
     "data": {
      "text/plain": [
       "'bananas'"
      ]
     },
     "execution_count": 6,
     "metadata": {},
     "output_type": "execute_result"
    }
   ],
   "source": [
    "// 2\n",
    "// use the slice method to return the word \"bananas\"\n",
    "// when redefining varaiable, don't use let again just do it like python\n",
    "\n",
    "let b = \"I can eat bananas all day\";\n",
    "b = b.slice(10,17);"
   ]
  },
  {
   "cell_type": "code",
   "execution_count": 1,
   "metadata": {},
   "outputs": [
    {
     "data": {
      "text/plain": [
       "'Welcome World'"
      ]
     },
     "execution_count": 1,
     "metadata": {},
     "output_type": "execute_result"
    }
   ],
   "source": [
    "// 3\n",
    "\n",
    "let c = 'Hello World';\n",
    "c =  c.replace('Hello', 'Welcome');"
   ]
  }
 ],
 "metadata": {
  "kernelspec": {
   "display_name": "JavaScript (Node.js)",
   "language": "javascript",
   "name": "javascript"
  },
  "language_info": {
   "file_extension": ".js",
   "mimetype": "application/javascript",
   "name": "javascript",
   "version": "16.15.1"
  },
  "orig_nbformat": 4
 },
 "nbformat": 4,
 "nbformat_minor": 2
}
