{
 "cells": [
  {
   "cell_type": "markdown",
   "metadata": {},
   "source": [
    "<h2> javascript.info - comparisons"
   ]
  },
  {
   "cell_type": "code",
   "execution_count": 8,
   "metadata": {},
   "outputs": [
    {
     "data": {
      "text/plain": [
       "true"
      ]
     },
     "execution_count": 8,
     "metadata": {},
     "output_type": "execute_result"
    }
   ],
   "source": [
    "5 > 4 // true"
   ]
  },
  {
   "cell_type": "code",
   "execution_count": 9,
   "metadata": {},
   "outputs": [
    {
     "data": {
      "text/plain": [
       "false"
      ]
     },
     "execution_count": 9,
     "metadata": {},
     "output_type": "execute_result"
    }
   ],
   "source": [
    "\"apple\" > \"pineapple\" // false"
   ]
  },
  {
   "cell_type": "code",
   "execution_count": 10,
   "metadata": {},
   "outputs": [
    {
     "data": {
      "text/plain": [
       "true"
      ]
     },
     "execution_count": 10,
     "metadata": {},
     "output_type": "execute_result"
    }
   ],
   "source": [
    "// got this wrong\n",
    "// compares strings char by char, since the first char of '2' is greater than '12', it decides that '2' is greater\n",
    "\"2\" > \"12\" // false"
   ]
  },
  {
   "cell_type": "code",
   "execution_count": 11,
   "metadata": {},
   "outputs": [
    {
     "data": {
      "text/plain": [
       "true"
      ]
     },
     "execution_count": 11,
     "metadata": {},
     "output_type": "execute_result"
    }
   ],
   "source": [
    "undefined == null // true"
   ]
  },
  {
   "cell_type": "code",
   "execution_count": 12,
   "metadata": {},
   "outputs": [
    {
     "data": {
      "text/plain": [
       "false"
      ]
     },
     "execution_count": 12,
     "metadata": {},
     "output_type": "execute_result"
    }
   ],
   "source": [
    "undefined === null // false"
   ]
  },
  {
   "cell_type": "code",
   "execution_count": 13,
   "metadata": {},
   "outputs": [
    {
     "data": {
      "text/plain": [
       "false"
      ]
     },
     "execution_count": 13,
     "metadata": {},
     "output_type": "execute_result"
    }
   ],
   "source": [
    "null == \"\\n0\\n\" // false"
   ]
  },
  {
   "cell_type": "code",
   "execution_count": 1,
   "metadata": {},
   "outputs": [
    {
     "data": {
      "text/plain": [
       "false"
      ]
     },
     "execution_count": 1,
     "metadata": {},
     "output_type": "execute_result"
    }
   ],
   "source": [
    "null === +\"\\n0\\n\" // false"
   ]
  },
  {
   "cell_type": "markdown",
   "metadata": {},
   "source": [
    "<h2> w3schools.com exercises"
   ]
  },
  {
   "cell_type": "code",
   "execution_count": 25,
   "metadata": {},
   "outputs": [
    {
     "ename": "SyntaxError",
     "evalue": "Identifier 'x' has already been declared",
     "output_type": "error",
     "traceback": [
      "evalmachine.<anonymous>:1",
      "// 1",
      "^",
      "",
      "SyntaxError: Identifier 'x' has already been declared",
      "    at Script.runInThisContext (node:vm:129:12)",
      "    at Object.runInThisContext (node:vm:305:38)",
      "    at run ([eval]:1020:15)",
      "    at onRunRequest ([eval]:864:18)",
      "    at onMessage ([eval]:828:13)",
      "    at process.emit (node:events:527:28)",
      "    at emit (node:internal/child_process:938:14)",
      "    at processTicksAndRejections (node:internal/process/task_queues:84:21)"
     ]
    }
   ],
   "source": [
    "// 1\n",
    "\n",
    "let x = 5\n",
    "let y = 4\n",
    "\n",
    "if (x > y) {\n",
    "    // this doesn't work bc alert is only a browser function\n",
    "    alert('Hello World');\n",
    "}"
   ]
  },
  {
   "cell_type": "code",
   "execution_count": 5,
   "metadata": {},
   "outputs": [
    {
     "name": "stdout",
     "output_type": "stream",
     "text": [
      "Hello World\n"
     ]
    }
   ],
   "source": [
    "if (x > y) {\n",
    "    console.log('Hello World');\n",
    "}"
   ]
  },
  {
   "cell_type": "code",
   "execution_count": 7,
   "metadata": {},
   "outputs": [
    {
     "name": "stdout",
     "output_type": "stream",
     "text": [
      "Hello World\n"
     ]
    }
   ],
   "source": [
    "// 2\n",
    "\n",
    "if (x > y) {\n",
    "    console.log(\"Hello World\");\n",
    "}\n",
    "else {\n",
    "    console.log(\"Goodbye\");\n",
    "}"
   ]
  },
  {
   "cell_type": "markdown",
   "metadata": {},
   "source": [
    "<h2> javascript.info - logical-operators"
   ]
  },
  {
   "cell_type": "markdown",
   "metadata": {},
   "source": [
    "https://javascript.info/logical-operators"
   ]
  },
  {
   "cell_type": "code",
   "execution_count": 9,
   "metadata": {},
   "outputs": [
    {
     "name": "stdout",
     "output_type": "stream",
     "text": [
      "2\n"
     ]
    }
   ],
   "source": [
    "// 1\n",
    "// (||) = OR operator\n",
    "// null is a \"falsy\" value bc when it is converted to a boolean its false\n",
    "// undefined is also falsy\n",
    "// here it prints the first \"truthy\" value, which is 2\n",
    "console.log( null || 2 || undefined );"
   ]
  },
  {
   "cell_type": "code",
   "execution_count": 26,
   "metadata": {},
   "outputs": [
    {
     "name": "stdout",
     "output_type": "stream",
     "text": [
      "1\n",
      "2\n"
     ]
    }
   ],
   "source": [
    "// 2\n",
    "// first the left operand is evaluated, and gets executed, which is why it is printed\n",
    "// however, it's output is undefined and thus falsy, and so it moves to print the first truthy,\n",
    "// which is 2, and then it stops and never evaluates 3\n",
    "\n",
    "console.log( console.log(1) || 2 || console.log(3) );"
   ]
  },
  {
   "cell_type": "code",
   "execution_count": 15,
   "metadata": {},
   "outputs": [
    {
     "name": "stdout",
     "output_type": "stream",
     "text": [
      "null\n"
     ]
    }
   ],
   "source": [
    "// 3\n",
    "// && finds the first falsy value, which in this case is null\n",
    "console.log( 1 && null && 2);"
   ]
  },
  {
   "cell_type": "code",
   "execution_count": 16,
   "metadata": {},
   "outputs": [
    {
     "name": "stdout",
     "output_type": "stream",
     "text": [
      "1\n",
      "undefined\n"
     ]
    }
   ],
   "source": [
    "// 3\n",
    "// again, calls the first element which executes it (prints 1),\n",
    "// then since its truthy it prints the actual value of console.log(1) which is undefined\n",
    "console.log( console.log(1) && console.log(2) );"
   ]
  },
  {
   "cell_type": "code",
   "execution_count": 17,
   "metadata": {},
   "outputs": [
    {
     "name": "stdout",
     "output_type": "stream",
     "text": [
      "3\n"
     ]
    }
   ],
   "source": [
    "// 4\n",
    "// the precedence of && is higher than ||, so it executes first\n",
    "// the result of 2 && 3 = 3, because all values are truthy so it outputs the last one\n",
    "// then it evaluates ( null || 3 || 3), the first truthy value is 3 so it outputs that\n",
    "console.log( null || 2 && 3 || 3);"
   ]
  },
  {
   "cell_type": "code",
   "execution_count": 18,
   "metadata": {},
   "outputs": [
    {
     "name": "stdout",
     "output_type": "stream",
     "text": [
      "In the range\n"
     ]
    }
   ],
   "source": [
    "// 5\n",
    "// check the range between\n",
    "// correct first try\n",
    "let age = 55\n",
    "\n",
    "if (14 <= age <= 90) {\n",
    "    console.log(\"In the range\");\n",
    "}   else {\n",
    "        console.log(\"Not in the range\");\n",
    "}"
   ]
  },
  {
   "cell_type": "code",
   "execution_count": 23,
   "metadata": {},
   "outputs": [
    {
     "name": "stdout",
     "output_type": "stream",
     "text": [
      "out of range\n"
     ]
    }
   ],
   "source": [
    "// 6\n",
    "// check the range outside v1\n",
    "age = 10\n",
    "\n",
    "if (!(age >= 14 && age <= 90)) {\n",
    "    console.log(\"out of range\")\n",
    "}"
   ]
  },
  {
   "cell_type": "code",
   "execution_count": 24,
   "metadata": {},
   "outputs": [
    {
     "name": "stdout",
     "output_type": "stream",
     "text": [
      "out of range\n"
     ]
    }
   ],
   "source": [
    "// check the range outside v2\n",
    "if (age < 14 || age > 90) {\n",
    "    console.log('out of range')\n",
    "}"
   ]
  },
  {
   "cell_type": "code",
   "execution_count": 28,
   "metadata": {},
   "outputs": [
    {
     "name": "stdout",
     "output_type": "stream",
     "text": [
      "first\n",
      "third\n"
     ]
    }
   ],
   "source": [
    "// 7\n",
    "\n",
    "// first this will run\n",
    "// the result of (-1 || 0) = -1, truthy, thus prints first\n",
    "if (-1 || 0) console.log( 'first' );\n",
    "\n",
    "// does not run\n",
    "// (-1 && 0) = 0, falsy, does not run\n",
    "if (-1 && 0) console.log( 'second' );\n",
    "\n",
    "// (-1 && 1) takes precedece, both are truthy so returns the last value 1\n",
    "// (null || 1) returns the first truthy = 1, truthy so executes and prints third\n",
    "if (null || -1 && 1) console.log( 'third' );"
   ]
  },
  {
   "cell_type": "code",
   "execution_count": null,
   "metadata": {},
   "outputs": [],
   "source": []
  }
 ],
 "metadata": {
  "kernelspec": {
   "display_name": "JavaScript (Node.js)",
   "language": "javascript",
   "name": "javascript"
  },
  "language_info": {
   "file_extension": ".js",
   "mimetype": "application/javascript",
   "name": "javascript",
   "version": "16.15.1"
  },
  "orig_nbformat": 4
 },
 "nbformat": 4,
 "nbformat_minor": 2
}
